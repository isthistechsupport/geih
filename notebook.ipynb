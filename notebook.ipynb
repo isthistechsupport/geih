{
 "cells": [
  {
   "cell_type": "code",
   "execution_count": 1,
   "metadata": {},
   "outputs": [],
   "source": [
    "import pandas as pd\n",
    "from pathlib import Path\n",
    "%load_ext pyprql.magic"
   ]
  },
  {
   "cell_type": "code",
   "execution_count": 2,
   "metadata": {},
   "outputs": [
    {
     "name": "stderr",
     "output_type": "stream",
     "text": [
      "/var/folders/l4/0_7m43593g9bhm_lxx4lpk_80000gq/T/ipykernel_74268/2622697029.py:3: DtypeWarning: Columns (28,89,135,161) have mixed types. Specify dtype option on import or set low_memory=False.\n",
      "  occupied_df = pd.read_csv(Path('raw_files') / 'csv' / 'occupied.csv')\n",
      "/var/folders/l4/0_7m43593g9bhm_lxx4lpk_80000gq/T/ipykernel_74268/2622697029.py:4: DtypeWarning: Columns (71) have mixed types. Specify dtype option on import or set low_memory=False.\n",
      "  other_workers_df = pd.read_csv(Path('raw_files') / 'csv' / 'other_workers.csv')\n",
      "/var/folders/l4/0_7m43593g9bhm_lxx4lpk_80000gq/T/ipykernel_74268/2622697029.py:8: DtypeWarning: Columns (34) have mixed types. Specify dtype option on import or set low_memory=False.\n",
      "  workforce_df = pd.read_csv(Path('raw_files') / 'csv' / 'workforce.csv')\n"
     ]
    }
   ],
   "source": [
    "disoccupied_df = pd.read_csv(Path('raw_files') / 'csv' / 'disoccupied.csv')\n",
    "household_data_df = pd.read_csv(Path('raw_files') / 'csv' / 'household_data.csv')\n",
    "occupied_df = pd.read_csv(Path('raw_files') / 'csv' / 'occupied.csv')\n",
    "other_workers_df = pd.read_csv(Path('raw_files') / 'csv' / 'other_workers.csv')\n",
    "generalities_df = pd.read_csv(Path('raw_files') / 'csv' / 'generalities.csv')\n",
    "migration_df = pd.read_csv(Path('raw_files') / 'csv' / 'migration.csv')\n",
    "other_income_and_taxes_df = pd.read_csv(Path('raw_files') / 'csv' / 'other_income_and_taxes.csv')\n",
    "workforce_df = pd.read_csv(Path('raw_files') / 'csv' / 'workforce.csv')"
   ]
  },
  {
   "cell_type": "code",
   "execution_count": 3,
   "metadata": {},
   "outputs": [],
   "source": [
    "%prql duckdb:///:memory:\n",
    "%prql --persist disoccupied_df\n",
    "%prql --persist household_data_df\n",
    "%prql --persist occupied_df\n",
    "%prql --persist other_workers_df\n",
    "%prql --persist generalities_df\n",
    "%prql --persist migration_df\n",
    "%prql --persist other_income_and_taxes_df\n",
    "%prql --persist workforce_df"
   ]
  },
  {
   "cell_type": "code",
   "execution_count": null,
   "metadata": {},
   "outputs": [],
   "source": [
    "%%prql\n",
    "from occupied_df"
   ]
  },
  {
   "cell_type": "code",
   "execution_count": null,
   "metadata": {},
   "outputs": [],
   "source": []
  }
 ],
 "metadata": {
  "kernelspec": {
   "display_name": ".venv",
   "language": "python",
   "name": "python3"
  },
  "language_info": {
   "codemirror_mode": {
    "name": "ipython",
    "version": 3
   },
   "file_extension": ".py",
   "mimetype": "text/x-python",
   "name": "python",
   "nbconvert_exporter": "python",
   "pygments_lexer": "ipython3",
   "version": "3.11.3"
  },
  "orig_nbformat": 4
 },
 "nbformat": 4,
 "nbformat_minor": 2
}
