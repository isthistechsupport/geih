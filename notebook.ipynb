{
 "cells": [
  {
   "cell_type": "code",
   "execution_count": 9,
   "metadata": {},
   "outputs": [],
   "source": [
    "#create quantile seeds\n",
    "\n",
    "from pathlib import Path\n",
    "\n",
    "for kind in [(4, 'quartiles'), (10, 'deciles'), (100, 'percentiles'), (1000, 'permilles')]:\n",
    "    with open(Path('geih') / 'seeds' / f'seed_{kind[1]}.csv', 'w') as f:\n",
    "        f.write('index,percentage\\n')\n",
    "        for i in range(1, kind[0]):\n",
    "            f.write(f'{i},{i / float(kind[0])}\\n')\n",
    "    "
   ]
  }
 ],
 "metadata": {
  "kernelspec": {
   "display_name": ".venv",
   "language": "python",
   "name": "python3"
  },
  "language_info": {
   "codemirror_mode": {
    "name": "ipython",
    "version": 3
   },
   "file_extension": ".py",
   "mimetype": "text/x-python",
   "name": "python",
   "nbconvert_exporter": "python",
   "pygments_lexer": "ipython3",
   "version": "3.11.3"
  },
  "orig_nbformat": 4
 },
 "nbformat": 4,
 "nbformat_minor": 2
}
